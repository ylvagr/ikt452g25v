{
 "cells": [
  {
   "cell_type": "code",
   "execution_count": 1,
   "id": "87780d40",
   "metadata": {
    "execution": {
     "iopub.execute_input": "2025-04-27T20:19:06.182045Z",
     "iopub.status.busy": "2025-04-27T20:19:06.181851Z",
     "iopub.status.idle": "2025-04-27T20:19:14.858936Z",
     "shell.execute_reply": "2025-04-27T20:19:14.857786Z"
    },
    "papermill": {
     "duration": 8.68688,
     "end_time": "2025-04-27T20:19:14.860555",
     "exception": false,
     "start_time": "2025-04-27T20:19:06.173675",
     "status": "completed"
    },
    "tags": []
   },
   "outputs": [
    {
     "name": "stderr",
     "output_type": "stream",
     "text": [
      "2025-04-27 20:19:08.737943: I tensorflow/core/util/port.cc:153] oneDNN custom operations are on. You may see slightly different numerical results due to floating-point round-off errors from different computation orders. To turn them off, set the environment variable `TF_ENABLE_ONEDNN_OPTS=0`.\n",
      "2025-04-27 20:19:08.750598: E external/local_xla/xla/stream_executor/cuda/cuda_fft.cc:467] Unable to register cuFFT factory: Attempting to register factory for plugin cuFFT when one has already been registered\n",
      "WARNING: All log messages before absl::InitializeLog() is called are written to STDERR\n",
      "E0000 00:00:1745785148.764948  682012 cuda_dnn.cc:8579] Unable to register cuDNN factory: Attempting to register factory for plugin cuDNN when one has already been registered\n",
      "E0000 00:00:1745785148.770014  682012 cuda_blas.cc:1407] Unable to register cuBLAS factory: Attempting to register factory for plugin cuBLAS when one has already been registered\n",
      "W0000 00:00:1745785148.782250  682012 computation_placer.cc:177] computation placer already registered. Please check linkage and avoid linking the same target more than once.\n",
      "W0000 00:00:1745785148.782266  682012 computation_placer.cc:177] computation placer already registered. Please check linkage and avoid linking the same target more than once.\n",
      "W0000 00:00:1745785148.782267  682012 computation_placer.cc:177] computation placer already registered. Please check linkage and avoid linking the same target more than once.\n",
      "W0000 00:00:1745785148.782268  682012 computation_placer.cc:177] computation placer already registered. Please check linkage and avoid linking the same target more than once.\n",
      "2025-04-27 20:19:08.787249: I tensorflow/core/platform/cpu_feature_guard.cc:210] This TensorFlow binary is optimized to use available CPU instructions in performance-critical operations.\n",
      "To enable the following instructions: AVX2 AVX512F AVX512_VNNI AVX512_BF16 AVX512_FP16 AVX_VNNI AMX_TILE AMX_INT8 AMX_BF16 FMA, in other operations, rebuild TensorFlow with the appropriate compiler flags.\n"
     ]
    }
   ],
   "source": [
    "from GraphTsetlinMachine.graphs import Graphs\n",
    "import numpy as np\n",
    "from scipy.sparse import csr_matrix\n",
    "from GraphTsetlinMachine.tm import MultiClassGraphTsetlinMachine\n",
    "from time import time\n",
    "import argparse\n",
    "from skimage.util import view_as_windows\n",
    "from numba import jit\n",
    "from keras.datasets import cifar10\n",
    "import cv2\n",
    "import seaborn as sns\n",
    "import matplotlib.pyplot as plt \n",
    "from sklearn.metrics import confusion_matrix, ConfusionMatrixDisplay"
   ]
  },
  {
   "cell_type": "code",
   "execution_count": 2,
   "id": "66acfd16",
   "metadata": {
    "execution": {
     "iopub.execute_input": "2025-04-27T20:19:14.876329Z",
     "iopub.status.busy": "2025-04-27T20:19:14.876032Z",
     "iopub.status.idle": "2025-04-27T20:19:14.882173Z",
     "shell.execute_reply": "2025-04-27T20:19:14.881228Z"
    },
    "papermill": {
     "duration": 0.013987,
     "end_time": "2025-04-27T20:19:14.883137",
     "exception": false,
     "start_time": "2025-04-27T20:19:14.869150",
     "status": "completed"
    },
    "tags": []
   },
   "outputs": [],
   "source": [
    "def default_args(**kwargs):\n",
    "    parser = argparse.ArgumentParser()\n",
    "    parser.add_argument(\"--epochs\", default=50, type=int)\n",
    "    parser.add_argument(\"--number-of-clauses\", default=80000, type=int)\n",
    "    parser.add_argument(\"--T\", default=15000, type=int)\n",
    "    parser.add_argument(\"--s\", default=20.0, type=float)\n",
    "    parser.add_argument(\"--number-of-state-bits\", default=8, type=int)\n",
    "    parser.add_argument(\"--depth\", default=1, type=int)\n",
    "    parser.add_argument(\"--hypervector-size\", default=128, type=int)\n",
    "    parser.add_argument(\"--hypervector-bits\", default=2, type=int)\n",
    "    parser.add_argument(\"--message-size\", default=256, type=int)\n",
    "    parser.add_argument(\"--message-bits\", default=2, type=int)\n",
    "    parser.add_argument(\"--patch_size\", default=8, type=int)\n",
    "    parser.add_argument('--double-hashing', dest='double_hashing', default=False, action='store_true')\n",
    "    parser.add_argument('--one-hot-encoding', dest='one_hot_encoding', default=True, action='store_true')\n",
    "    parser.add_argument(\"--max-included-literals\", default=32, type=int)\n",
    "    parser.add_argument(\"--resolution\", default=8, type=int)\n",
    "    \n",
    "    args = parser.parse_args(args=[])\n",
    "    for key, value in kwargs.items():\n",
    "        if key in args.__dict__:\n",
    "            setattr(args, key, value)\n",
    "    return args\n",
    "\n",
    "args = default_args()"
   ]
  },
  {
   "cell_type": "code",
   "execution_count": 3,
   "id": "230cae5c",
   "metadata": {
    "execution": {
     "iopub.execute_input": "2025-04-27T20:19:14.891533Z",
     "iopub.status.busy": "2025-04-27T20:19:14.891386Z",
     "iopub.status.idle": "2025-04-27T20:19:17.892935Z",
     "shell.execute_reply": "2025-04-27T20:19:17.891827Z"
    },
    "papermill": {
     "duration": 3.007658,
     "end_time": "2025-04-27T20:19:17.894585",
     "exception": false,
     "start_time": "2025-04-27T20:19:14.886927",
     "status": "completed"
    },
    "tags": []
   },
   "outputs": [],
   "source": [
    "def horizontal_flip(image):\n",
    "    return cv2.flip(image.astype(np.uint8), 1)\n",
    "\n",
    "(X_train, Y_train), (X_test, Y_test) = cifar10.load_data()\n",
    "\n",
    "X_train_gaussian = np.copy(X_train)\n",
    "Y_train = Y_train\n",
    "\n",
    "X_test_gaussian = np.copy(X_test)\n",
    "Y_test = Y_test\n",
    "\n",
    "Y_train = Y_train.reshape(Y_train.shape[0])\n",
    "Y_test = Y_test.reshape(Y_test.shape[0])\n",
    "\n",
    "for i in range(X_train.shape[0]):\n",
    "        for j in range(X_train.shape[3]):\n",
    "                X_train_gaussian[i,:,:,j] = cv2.adaptiveThreshold(X_train[i,:,:,j], 1, cv2.ADAPTIVE_THRESH_GAUSSIAN_C, cv2.THRESH_BINARY, 11, 2) #cv2.adaptiveThreshold(X_train[i,:,:,j], 1, cv2.ADAPTIVE_THRESH_GAUSSIAN_C, cv2.THRESH_BINARY, 5, 5)\n",
    "\n",
    "for i in range(X_test.shape[0]):\n",
    "        for j in range(X_test.shape[3]):\n",
    "                X_test_gaussian[i,:,:,j] = cv2.adaptiveThreshold(X_test[i,:,:,j], 1, cv2.ADAPTIVE_THRESH_GAUSSIAN_C, cv2.THRESH_BINARY, 11, 2)#cv2.adaptiveThreshold(X_test[i,:,:,j], 1, cv2.ADAPTIVE_THRESH_GAUSSIAN_C, cv2.THRESH_BINARY, 5, 5)\n",
    "\n",
    "X_train_gaussian = X_train_gaussian.astype(np.uint32)\n",
    "X_test_gaussian = X_test_gaussian.astype(np.uint32)\n",
    "Y_train = Y_train.astype(np.uint32)\n",
    "Y_test = Y_test.astype(np.uint32)\n"
   ]
  },
  {
   "cell_type": "code",
   "execution_count": 4,
   "id": "a74f2717",
   "metadata": {
    "execution": {
     "iopub.execute_input": "2025-04-27T20:19:17.906170Z",
     "iopub.status.busy": "2025-04-27T20:19:17.906019Z",
     "iopub.status.idle": "2025-04-27T20:19:21.608709Z",
     "shell.execute_reply": "2025-04-27T20:19:21.607312Z"
    },
    "papermill": {
     "duration": 3.709436,
     "end_time": "2025-04-27T20:19:21.610483",
     "exception": false,
     "start_time": "2025-04-27T20:19:17.901047",
     "status": "completed"
    },
    "tags": []
   },
   "outputs": [],
   "source": [
    "X_train_thermometer = np.empty(\n",
    "    (\n",
    "        X_train.shape[0],\n",
    "        X_train.shape[1],\n",
    "        X_train.shape[2],\n",
    "        X_train.shape[3],\n",
    "        args.resolution,\n",
    "    ),\n",
    "    dtype=np.uint8,\n",
    ")\n",
    "for z in range(args.resolution):\n",
    "    X_train_thermometer[:, :, :, :, z] = X_train[:, :, :, :] >= (z + 1) * 255 / (\n",
    "        args.resolution + 1\n",
    "    )\n",
    "\n",
    "X_test_thermometer = np.empty(\n",
    "    (\n",
    "        X_test.shape[0],\n",
    "        X_test.shape[1],\n",
    "        X_test.shape[2],\n",
    "        X_test.shape[3],\n",
    "        args.resolution,\n",
    "    ),\n",
    "    dtype=np.uint8,\n",
    ")\n",
    "for z in range(args.resolution):\n",
    "    X_test_thermometer[:, :, :, :, z] = X_test[:, :, :, :] >= (z + 1) * 255 / (\n",
    "        args.resolution + 1\n",
    "    )\n",
    "\n",
    "X_train_thermometer = X_train_thermometer.reshape(\n",
    "    (\n",
    "        X_train.shape[0],\n",
    "        X_train.shape[1],\n",
    "        X_train.shape[2],\n",
    "        3 * args.resolution,\n",
    "    )\n",
    ")\n",
    "X_test_thermometer = X_test_thermometer.reshape(\n",
    "    (\n",
    "        X_test.shape[0],\n",
    "        X_test.shape[1],\n",
    "        X_test.shape[2],\n",
    "        3 * args.resolution,\n",
    "    )\n",
    ")"
   ]
  },
  {
   "cell_type": "code",
   "execution_count": 5,
   "id": "b52064d3",
   "metadata": {
    "execution": {
     "iopub.execute_input": "2025-04-27T20:19:21.620950Z",
     "iopub.status.busy": "2025-04-27T20:19:21.620781Z",
     "iopub.status.idle": "2025-04-27T20:19:21.626422Z",
     "shell.execute_reply": "2025-04-27T20:19:21.625350Z"
    },
    "papermill": {
     "duration": 0.011614,
     "end_time": "2025-04-27T20:19:21.627424",
     "exception": false,
     "start_time": "2025-04-27T20:19:21.615810",
     "status": "completed"
    },
    "tags": []
   },
   "outputs": [
    {
     "name": "stdout",
     "output_type": "stream",
     "text": [
      "2500\n",
      "['C:0', 'R:0', 'C:1', 'R:1', 'C:2', 'R:2', 'C:3', 'R:3', 'C:4', 'R:4', 'C:5', 'R:5', 'C:6', 'R:6', 'C:7', 'R:7', 'C:8', 'R:8', 'C:9', 'R:9', 'C:10', 'R:10', 'C:11', 'R:11', 'C:12', 'R:12', 'C:13', 'R:13', 'C:14', 'R:14', 'C:15', 'R:15', 'C:16', 'R:16', 'C:17', 'R:17', 'C:18', 'R:18', 'C:19', 'R:19', 'C:20', 'R:20', 'C:21', 'R:21', 'C:22', 'R:22', 'C:23', 'R:23', 'C:24', 'R:24', 0, 1, 2, 3, 4, 5, 6, 7, 8, 9, 10, 11, 12, 13, 14, 15, 16, 17, 18, 19, 20, 21, 22, 23, 24, 25, 26, 27, 28, 29, 30, 31, 32, 33, 34, 35, 36, 37, 38, 39, 40, 41, 42, 43, 44, 45, 46, 47, 48, 49, 50, 51, 52, 53, 54, 55, 56, 57, 58, 59, 60, 61, 62, 63, 64, 65, 66, 67, 68, 69, 70, 71, 72, 73, 74, 75, 76, 77, 78, 79, 80, 81, 82, 83, 84, 85, 86, 87, 88, 89, 90, 91, 92, 93, 94, 95, 96, 97, 98, 99, 100, 101, 102, 103, 104, 105, 106, 107, 108, 109, 110, 111, 112, 113, 114, 115, 116, 117, 118, 119, 120, 121, 122, 123, 124, 125, 126, 127, 128, 129, 130, 131, 132, 133, 134, 135, 136, 137, 138, 139, 140, 141, 142, 143, 144, 145, 146, 147, 148, 149, 150, 151, 152, 153, 154, 155, 156, 157, 158, 159, 160, 161, 162, 163, 164, 165, 166, 167, 168, 169, 170, 171, 172, 173, 174, 175, 176, 177, 178, 179, 180, 181, 182, 183, 184, 185, 186, 187, 188, 189, 190, 191]\n"
     ]
    }
   ],
   "source": [
    "\n",
    "dim = 32 - args.patch_size + 1\n",
    "\n",
    "number_of_nodes = (dim * dim) * 4\n",
    "print(number_of_nodes)\n",
    "\n",
    "symbols = []\n",
    "\n",
    "# Column and row symbols\n",
    "for i in range(dim):\n",
    "    symbols.append(\"C:%d\" % (i))\n",
    "    symbols.append(\"R:%d\" % (i))\n",
    "\n",
    "# Patch pixel symbols\n",
    "for i in range(args.patch_size*args.patch_size*3):\n",
    "    symbols.append(i)\n",
    "\n",
    "print(symbols)"
   ]
  },
  {
   "cell_type": "code",
   "execution_count": 6,
   "id": "ba8cf0ee",
   "metadata": {
    "execution": {
     "iopub.execute_input": "2025-04-27T20:19:21.635886Z",
     "iopub.status.busy": "2025-04-27T20:19:21.635744Z",
     "iopub.status.idle": "2025-04-27T23:38:04.094427Z",
     "shell.execute_reply": "2025-04-27T23:38:04.093252Z"
    },
    "papermill": {
     "duration": 11922.469595,
     "end_time": "2025-04-27T23:38:04.100815",
     "exception": false,
     "start_time": "2025-04-27T20:19:21.631220",
     "status": "completed"
    },
    "tags": []
   },
   "outputs": [
    {
     "name": "stdout",
     "output_type": "stream",
     "text": [
      "0 50000\n"
     ]
    },
    {
     "name": "stdout",
     "output_type": "stream",
     "text": [
      "1000 50000\n"
     ]
    },
    {
     "name": "stdout",
     "output_type": "stream",
     "text": [
      "2000 50000\n"
     ]
    },
    {
     "name": "stdout",
     "output_type": "stream",
     "text": [
      "3000 50000\n"
     ]
    },
    {
     "name": "stdout",
     "output_type": "stream",
     "text": [
      "4000 50000\n"
     ]
    },
    {
     "name": "stdout",
     "output_type": "stream",
     "text": [
      "5000 50000\n"
     ]
    },
    {
     "name": "stdout",
     "output_type": "stream",
     "text": [
      "6000 50000\n"
     ]
    },
    {
     "name": "stdout",
     "output_type": "stream",
     "text": [
      "7000 50000\n"
     ]
    },
    {
     "name": "stdout",
     "output_type": "stream",
     "text": [
      "8000 50000\n"
     ]
    },
    {
     "name": "stdout",
     "output_type": "stream",
     "text": [
      "9000 50000\n"
     ]
    },
    {
     "name": "stdout",
     "output_type": "stream",
     "text": [
      "10000 50000\n"
     ]
    },
    {
     "name": "stdout",
     "output_type": "stream",
     "text": [
      "11000 50000\n"
     ]
    },
    {
     "name": "stdout",
     "output_type": "stream",
     "text": [
      "12000 50000\n"
     ]
    },
    {
     "name": "stdout",
     "output_type": "stream",
     "text": [
      "13000 50000\n"
     ]
    },
    {
     "name": "stdout",
     "output_type": "stream",
     "text": [
      "14000 50000\n"
     ]
    },
    {
     "name": "stdout",
     "output_type": "stream",
     "text": [
      "15000 50000\n"
     ]
    },
    {
     "name": "stdout",
     "output_type": "stream",
     "text": [
      "16000 50000\n"
     ]
    },
    {
     "name": "stdout",
     "output_type": "stream",
     "text": [
      "17000 50000\n"
     ]
    },
    {
     "name": "stdout",
     "output_type": "stream",
     "text": [
      "18000 50000\n"
     ]
    },
    {
     "name": "stdout",
     "output_type": "stream",
     "text": [
      "19000 50000\n"
     ]
    },
    {
     "name": "stdout",
     "output_type": "stream",
     "text": [
      "20000 50000\n"
     ]
    },
    {
     "name": "stdout",
     "output_type": "stream",
     "text": [
      "21000 50000\n"
     ]
    },
    {
     "name": "stdout",
     "output_type": "stream",
     "text": [
      "22000 50000\n"
     ]
    },
    {
     "name": "stdout",
     "output_type": "stream",
     "text": [
      "23000 50000\n"
     ]
    },
    {
     "name": "stdout",
     "output_type": "stream",
     "text": [
      "24000 50000\n"
     ]
    },
    {
     "name": "stdout",
     "output_type": "stream",
     "text": [
      "25000 50000\n"
     ]
    },
    {
     "name": "stdout",
     "output_type": "stream",
     "text": [
      "26000 50000\n"
     ]
    },
    {
     "name": "stdout",
     "output_type": "stream",
     "text": [
      "27000 50000\n"
     ]
    },
    {
     "name": "stdout",
     "output_type": "stream",
     "text": [
      "28000 50000\n"
     ]
    },
    {
     "name": "stdout",
     "output_type": "stream",
     "text": [
      "29000 50000\n"
     ]
    },
    {
     "name": "stdout",
     "output_type": "stream",
     "text": [
      "30000 50000\n"
     ]
    },
    {
     "name": "stdout",
     "output_type": "stream",
     "text": [
      "31000 50000\n"
     ]
    },
    {
     "name": "stdout",
     "output_type": "stream",
     "text": [
      "32000 50000\n"
     ]
    },
    {
     "name": "stdout",
     "output_type": "stream",
     "text": [
      "33000 50000\n"
     ]
    },
    {
     "name": "stdout",
     "output_type": "stream",
     "text": [
      "34000 50000\n"
     ]
    },
    {
     "name": "stdout",
     "output_type": "stream",
     "text": [
      "35000 50000\n"
     ]
    },
    {
     "name": "stdout",
     "output_type": "stream",
     "text": [
      "36000 50000\n"
     ]
    },
    {
     "name": "stdout",
     "output_type": "stream",
     "text": [
      "37000 50000\n"
     ]
    },
    {
     "name": "stdout",
     "output_type": "stream",
     "text": [
      "38000 50000\n"
     ]
    },
    {
     "name": "stdout",
     "output_type": "stream",
     "text": [
      "39000 50000\n"
     ]
    },
    {
     "name": "stdout",
     "output_type": "stream",
     "text": [
      "40000 50000\n"
     ]
    },
    {
     "name": "stdout",
     "output_type": "stream",
     "text": [
      "41000 50000\n"
     ]
    },
    {
     "name": "stdout",
     "output_type": "stream",
     "text": [
      "42000 50000\n"
     ]
    },
    {
     "name": "stdout",
     "output_type": "stream",
     "text": [
      "43000 50000\n"
     ]
    },
    {
     "name": "stdout",
     "output_type": "stream",
     "text": [
      "44000 50000\n"
     ]
    },
    {
     "name": "stdout",
     "output_type": "stream",
     "text": [
      "45000 50000\n"
     ]
    },
    {
     "name": "stdout",
     "output_type": "stream",
     "text": [
      "46000 50000\n"
     ]
    },
    {
     "name": "stdout",
     "output_type": "stream",
     "text": [
      "47000 50000\n"
     ]
    },
    {
     "name": "stdout",
     "output_type": "stream",
     "text": [
      "48000 50000\n"
     ]
    },
    {
     "name": "stdout",
     "output_type": "stream",
     "text": [
      "49000 50000\n"
     ]
    },
    {
     "name": "stdout",
     "output_type": "stream",
     "text": [
      "Training data produced\n"
     ]
    }
   ],
   "source": [
    "graphs_train = Graphs(\n",
    "    X_train.shape[0],\n",
    "    symbols=symbols,\n",
    "    hypervector_size=args.hypervector_size,\n",
    "    hypervector_bits=args.hypervector_bits,\n",
    "    double_hashing = args.double_hashing,\n",
    "    one_hot_encoding = args.one_hot_encoding\n",
    ")\n",
    "\n",
    "for graph_id in range(X_train.shape[0]):\n",
    "    graphs_train.set_number_of_graph_nodes(graph_id, number_of_nodes)\n",
    "\n",
    "graphs_train.prepare_node_configuration()\n",
    "\n",
    "for graph_id in range(X_train.shape[0]):\n",
    "    for node_id in range(graphs_train.number_of_graph_nodes[graph_id]):\n",
    "        node_type_name = \"gaussian\" if (node_id % 4) < 2 else \"thermometer\"\n",
    "        graphs_train.add_graph_node(graph_id, node_id, 0, node_type_name)\n",
    "\n",
    "graphs_train.prepare_edge_configuration()\n",
    "\n",
    "for graph_id in range(X_train.shape[0]):\n",
    "    if graph_id % 1000 == 0:\n",
    "        print(graph_id, X_train.shape[0])\n",
    "\n",
    "    image_gaussian = X_train_gaussian[graph_id, :, :]\n",
    "    flipped_image_gaussian = horizontal_flip(image_gaussian)\n",
    "     \n",
    "    windows_gaussian = view_as_windows(image_gaussian, (args.patch_size, args.patch_size, 3))\n",
    "    flipped_windows_gaussian = view_as_windows(flipped_image_gaussian, (args.patch_size, args.patch_size, 3))\n",
    "    for q in range(windows_gaussian.shape[0]):\n",
    "        for r in range(windows_gaussian.shape[1]):\n",
    "            # Original gaussian node\n",
    "            node_id_gaussian = (q * dim + r) * 4\n",
    "\n",
    "            patch_gaussian = windows_gaussian[q,r,0]\n",
    "            flattened_patch_gaussian = patch_gaussian.reshape(-1).astype(np.uint32)\n",
    "            for k in flattened_patch_gaussian.nonzero()[0]:\n",
    "                graphs_train.add_graph_node_property(graph_id, node_id_gaussian, k)\n",
    "            for s in range(q + 1):\n",
    "                graphs_train.add_graph_node_property(graph_id, node_id_gaussian, f\"C:{s}\")\n",
    "            for s in range(r + 1):\n",
    "                graphs_train.add_graph_node_property(graph_id, node_id_gaussian, f\"R:{s}\")\n",
    "\n",
    "            # Flipped gaussian node\n",
    "            node_id_gaussian_flipped = (q * dim + r) * 4 + 1\n",
    "\n",
    "            flipped_patch_gaussian = flipped_windows_gaussian[q, r, 0]\n",
    "            flattened_flipped_patch_gaussian = flipped_patch_gaussian.reshape(-1).astype(np.uint32)\n",
    "            for k in flattened_flipped_patch_gaussian.nonzero()[0]:\n",
    "                graphs_train.add_graph_node_property(graph_id, node_id_gaussian_flipped, k)\n",
    "            for s in range(q + 1):\n",
    "                graphs_train.add_graph_node_property(graph_id, node_id_gaussian_flipped, f\"C:{s}\")\n",
    "            for s in range(r + 1):\n",
    "                graphs_train.add_graph_node_property(graph_id, node_id_gaussian_flipped, f\"R:{s}\")\n",
    "    \n",
    "    image_thermometer = X_train_thermometer[graph_id, :, :]\n",
    "    flipped_image_thermometer = horizontal_flip(image_thermometer)\n",
    "     \n",
    "    windows_thermometer = view_as_windows(image_thermometer, (args.patch_size, args.patch_size, 3))\n",
    "    flipped_windows_thermometer = view_as_windows(flipped_image_thermometer, (args.patch_size, args.patch_size, 3))\n",
    "    for q in range(windows_thermometer.shape[0]):\n",
    "        for r in range(windows_thermometer.shape[1]):\n",
    "            # Original themometers node\n",
    "            node_id_thermometer = (q * dim + r) * 4 + 2\n",
    "\n",
    "            patch_thermometer = windows_thermometer[q, r, 0]\n",
    "            flattened_patch_thermometer = patch_thermometer.reshape(-1).astype(np.uint32)\n",
    "            for k in flattened_patch_thermometer.nonzero()[0]:\n",
    "                graphs_train.add_graph_node_property(graph_id, node_id_thermometer, k)\n",
    "            for s in range(q + 1):\n",
    "                graphs_train.add_graph_node_property(graph_id, node_id_thermometer, f\"C:{s}\")\n",
    "            for s in range(r + 1):\n",
    "                graphs_train.add_graph_node_property(graph_id, node_id_thermometer, f\"R:{s}\")\n",
    "\n",
    "            # Flipped thermometer node\n",
    "            node_id_thermometer_flipped = (q * dim + r) * 4 + 3\n",
    "\n",
    "            flipped_patch_thermometer = flipped_windows_thermometer[q, r, 0]\n",
    "            flattened_flipped_patch_thermometer = flipped_patch_thermometer.reshape(-1).astype(np.uint32)\n",
    "            for k in flattened_flipped_patch_thermometer.nonzero()[0]:\n",
    "                graphs_train.add_graph_node_property(graph_id, node_id_thermometer_flipped, k)\n",
    "            for s in range(q + 1):\n",
    "                graphs_train.add_graph_node_property(graph_id, node_id_thermometer_flipped, f\"C:{s}\")\n",
    "            for s in range(r + 1):\n",
    "                graphs_train.add_graph_node_property(graph_id, node_id_thermometer_flipped, f\"R:{s}\")\n",
    "\n",
    "\n",
    "graphs_train.encode()\n",
    "\n",
    "print(\"Training data produced\")"
   ]
  },
  {
   "cell_type": "code",
   "execution_count": 7,
   "id": "431b268c",
   "metadata": {
    "execution": {
     "iopub.execute_input": "2025-04-27T23:38:04.114403Z",
     "iopub.status.busy": "2025-04-27T23:38:04.114137Z",
     "iopub.status.idle": "2025-04-28T00:17:40.222077Z",
     "shell.execute_reply": "2025-04-28T00:17:40.220838Z"
    },
    "papermill": {
     "duration": 2376.12141,
     "end_time": "2025-04-28T00:17:40.228233",
     "exception": false,
     "start_time": "2025-04-27T23:38:04.106823",
     "status": "completed"
    },
    "tags": []
   },
   "outputs": [
    {
     "name": "stdout",
     "output_type": "stream",
     "text": [
      "0 10000\n"
     ]
    },
    {
     "name": "stdout",
     "output_type": "stream",
     "text": [
      "1000 10000\n"
     ]
    },
    {
     "name": "stdout",
     "output_type": "stream",
     "text": [
      "2000 10000\n"
     ]
    },
    {
     "name": "stdout",
     "output_type": "stream",
     "text": [
      "3000 10000\n"
     ]
    },
    {
     "name": "stdout",
     "output_type": "stream",
     "text": [
      "4000 10000\n"
     ]
    },
    {
     "name": "stdout",
     "output_type": "stream",
     "text": [
      "5000 10000\n"
     ]
    },
    {
     "name": "stdout",
     "output_type": "stream",
     "text": [
      "6000 10000\n"
     ]
    },
    {
     "name": "stdout",
     "output_type": "stream",
     "text": [
      "7000 10000\n"
     ]
    },
    {
     "name": "stdout",
     "output_type": "stream",
     "text": [
      "8000 10000\n"
     ]
    },
    {
     "name": "stdout",
     "output_type": "stream",
     "text": [
      "9000 10000\n"
     ]
    },
    {
     "name": "stdout",
     "output_type": "stream",
     "text": [
      "Testing data produced\n"
     ]
    }
   ],
   "source": [
    "graphs_test = Graphs(X_test.shape[0], init_with=graphs_train)\n",
    "for graph_id in range(X_test.shape[0]):\n",
    "    graphs_test.set_number_of_graph_nodes(graph_id, number_of_nodes)\n",
    "\n",
    "graphs_test.prepare_node_configuration()\n",
    "\n",
    "for graph_id in range(X_test.shape[0]):\n",
    "    for node_id in range(graphs_test.number_of_graph_nodes[graph_id]):\n",
    "        node_type_name = \"gaussian\" if (node_id % 4) < 2 else \"thermometer\"\n",
    "        graphs_test.add_graph_node(graph_id, node_id, 0, node_type_name)\n",
    "\n",
    "graphs_test.prepare_edge_configuration()\n",
    "\n",
    "for graph_id in range(X_test.shape[0]):\n",
    "    if graph_id % 1000 == 0:\n",
    "        print(graph_id, X_test.shape[0])\n",
    "    \n",
    "    image_gaussian = X_test_gaussian[graph_id, :, :]\n",
    "    flipped_image_gaussian = horizontal_flip(image_gaussian)\n",
    "     \n",
    "    windows_gaussian = view_as_windows(image_gaussian, (args.patch_size, args.patch_size, 3))\n",
    "    flipped_windows_gaussian = view_as_windows(flipped_image_gaussian, (args.patch_size, args.patch_size, 3))\n",
    "    for q in range(windows_gaussian.shape[0]):\n",
    "        for r in range(windows_gaussian.shape[1]):\n",
    "            # Original gaussian node\n",
    "            node_id_gaussian = (q * dim + r) * 4 \n",
    "\n",
    "            patch_gaussian = windows_gaussian[q,r,0]\n",
    "            flattened_patch_gaussian = patch_gaussian.reshape(-1).astype(np.uint32)\n",
    "            for k in flattened_patch_gaussian.nonzero()[0]:\n",
    "                graphs_test.add_graph_node_property(graph_id, node_id_gaussian, k)\n",
    "            for s in range(q + 1):\n",
    "                graphs_test.add_graph_node_property(graph_id, node_id_gaussian, f\"C:{s}\")\n",
    "            for s in range(r + 1):\n",
    "                graphs_test.add_graph_node_property(graph_id, node_id_gaussian, f\"R:{s}\")\n",
    "\n",
    "            # Flipped gaussian node\n",
    "            node_id_gaussian_flipped = (q * dim + r) * 4 + 1\n",
    "\n",
    "            flipped_patch_gaussian= flipped_windows_gaussian[q, r, 0]\n",
    "            flattened_flipped_patch_gaussian = flipped_patch_gaussian.reshape(-1).astype(np.uint32)\n",
    "            for k in flattened_flipped_patch_gaussian.nonzero()[0]:\n",
    "                graphs_test.add_graph_node_property(graph_id, node_id_gaussian_flipped, k)\n",
    "            for s in range(q + 1):\n",
    "                graphs_test.add_graph_node_property(graph_id, node_id_gaussian_flipped, f\"C:{s}\")\n",
    "            for s in range(r + 1):\n",
    "                graphs_test.add_graph_node_property(graph_id, node_id_gaussian_flipped, f\"R:{s}\")\n",
    "\n",
    "    image_thermometer = X_test_thermometer[graph_id, :, :]\n",
    "    flipped_image_thermometer = horizontal_flip(image_thermometer)\n",
    "     \n",
    "    windows_thermometer = view_as_windows(image_thermometer, (args.patch_size, args.patch_size, 3))\n",
    "    flipped_windows_thermometer = view_as_windows(flipped_image_thermometer, (args.patch_size, args.patch_size, 3))\n",
    "    for q in range(windows_thermometer.shape[0]):\n",
    "        for r in range(windows_thermometer.shape[1]):\n",
    "            # Original thermometer node\n",
    "            node_id_thermometer = (q * dim + r) * 4 + 2\n",
    "\n",
    "            patch_thermometer = windows_thermometer[q, r, 0]\n",
    "            flattened_patch_thermometer = patch_thermometer.reshape(-1).astype(np.uint32)\n",
    "\n",
    "            for k in flattened_patch_thermometer.nonzero()[0]:\n",
    "                graphs_test.add_graph_node_property(graph_id, node_id_thermometer, k)\n",
    "            for s in range(q + 1):\n",
    "                graphs_test.add_graph_node_property(graph_id, node_id_thermometer, f\"C:{s}\")\n",
    "            for s in range(r + 1):\n",
    "                graphs_test.add_graph_node_property(graph_id, node_id_thermometer, f\"R:{s}\")\n",
    "\n",
    "            # Flipped thermometer node\n",
    "            node_id_thermometer_flipped = (q * dim + r) * 4 + 3\n",
    "\n",
    "            flipped_patch_thermometer = flipped_windows_thermometer[q, r, 0]\n",
    "            flattened_flipped_patch_thermometer = flipped_patch_thermometer.reshape(-1).astype(np.uint32)\n",
    "            for k in flattened_flipped_patch_thermometer.nonzero()[0]:\n",
    "                graphs_test.add_graph_node_property(graph_id, node_id_thermometer_flipped, k)\n",
    "            for s in range(q + 1):\n",
    "                graphs_test.add_graph_node_property(graph_id, node_id_thermometer_flipped, f\"C:{s}\")\n",
    "            for s in range(r + 1):\n",
    "                graphs_test.add_graph_node_property(graph_id, node_id_thermometer_flipped, f\"R:{s}\")\n",
    "\n",
    "\n",
    "graphs_test.encode()\n",
    "\n",
    "print(\"Testing data produced\")"
   ]
  },
  {
   "cell_type": "code",
   "execution_count": 8,
   "id": "2b36ec96",
   "metadata": {
    "execution": {
     "iopub.execute_input": "2025-04-28T00:17:40.240289Z",
     "iopub.status.busy": "2025-04-28T00:17:40.240120Z",
     "iopub.status.idle": "2025-04-28T00:17:40.244153Z",
     "shell.execute_reply": "2025-04-28T00:17:40.243498Z"
    },
    "papermill": {
     "duration": 0.011242,
     "end_time": "2025-04-28T00:17:40.244966",
     "exception": false,
     "start_time": "2025-04-28T00:17:40.233724",
     "status": "completed"
    },
    "tags": []
   },
   "outputs": [
    {
     "name": "stdout",
     "output_type": "stream",
     "text": [
      "Initialization of sparse structure.\n"
     ]
    }
   ],
   "source": [
    "tm = MultiClassGraphTsetlinMachine(\n",
    "    args.number_of_clauses,\n",
    "    args.T,\n",
    "    args.s,\n",
    "    number_of_state_bits = args.number_of_state_bits,\n",
    "    depth=args.depth,\n",
    "    message_size=args.message_size,\n",
    "    message_bits=args.message_bits,\n",
    "    max_included_literals=args.max_included_literals,\n",
    "    double_hashing = args.double_hashing,\n",
    "    one_hot_encoding = args.one_hot_encoding\n",
    ")"
   ]
  },
  {
   "cell_type": "code",
   "execution_count": 9,
   "id": "3280f282",
   "metadata": {
    "execution": {
     "iopub.execute_input": "2025-04-28T00:17:40.257021Z",
     "iopub.status.busy": "2025-04-28T00:17:40.256876Z",
     "iopub.status.idle": "2025-04-28T15:13:55.064626Z",
     "shell.execute_reply": "2025-04-28T15:13:55.063445Z"
    },
    "papermill": {
     "duration": 53774.821058,
     "end_time": "2025-04-28T15:13:55.071613",
     "exception": false,
     "start_time": "2025-04-28T00:17:40.250555",
     "status": "completed"
    },
    "tags": []
   },
   "outputs": [
    {
     "name": "stdout",
     "output_type": "stream",
     "text": [
      "0 59.26 56.72 503.78 96.79\n"
     ]
    },
    {
     "name": "stdout",
     "output_type": "stream",
     "text": [
      "1 66.32 62.01 498.52 96.88\n"
     ]
    },
    {
     "name": "stdout",
     "output_type": "stream",
     "text": [
      "2 70.66 64.37 497.69 96.88\n"
     ]
    },
    {
     "name": "stdout",
     "output_type": "stream",
     "text": [
      "3 73.77 66.24 497.19 96.88\n"
     ]
    },
    {
     "name": "stdout",
     "output_type": "stream",
     "text": [
      "4 76.34 67.14 496.81 96.87\n"
     ]
    },
    {
     "name": "stdout",
     "output_type": "stream",
     "text": [
      "5 78.16 67.73 496.50 96.86\n"
     ]
    },
    {
     "name": "stdout",
     "output_type": "stream",
     "text": [
      "6 80.24 68.54 496.22 96.85\n"
     ]
    },
    {
     "name": "stdout",
     "output_type": "stream",
     "text": [
      "7 81.56 68.50 495.95 96.86\n"
     ]
    },
    {
     "name": "stdout",
     "output_type": "stream",
     "text": [
      "8 83.01 68.74 495.69 96.87\n"
     ]
    },
    {
     "name": "stdout",
     "output_type": "stream",
     "text": [
      "9 83.94 69.16 495.51 96.88\n"
     ]
    },
    {
     "name": "stdout",
     "output_type": "stream",
     "text": [
      "10 85.15 69.24 495.36 96.86\n"
     ]
    },
    {
     "name": "stdout",
     "output_type": "stream",
     "text": [
      "11 86.37 69.50 495.22 96.85\n"
     ]
    },
    {
     "name": "stdout",
     "output_type": "stream",
     "text": [
      "12 87.12 69.63 495.11 96.85\n"
     ]
    },
    {
     "name": "stdout",
     "output_type": "stream",
     "text": [
      "13 88.00 70.00 494.95 96.82\n"
     ]
    },
    {
     "name": "stdout",
     "output_type": "stream",
     "text": [
      "14 88.63 69.99 494.83 96.84\n"
     ]
    },
    {
     "name": "stdout",
     "output_type": "stream",
     "text": [
      "15 89.35 70.61 494.68 96.84\n"
     ]
    },
    {
     "name": "stdout",
     "output_type": "stream",
     "text": [
      "16 89.65 70.21 494.60 96.84\n"
     ]
    },
    {
     "name": "stdout",
     "output_type": "stream",
     "text": [
      "17 90.42 70.54 494.46 96.84\n"
     ]
    },
    {
     "name": "stdout",
     "output_type": "stream",
     "text": [
      "18 90.77 69.76 494.38 96.84\n"
     ]
    },
    {
     "name": "stdout",
     "output_type": "stream",
     "text": [
      "19 91.29 70.08 494.36 96.89\n"
     ]
    },
    {
     "name": "stdout",
     "output_type": "stream",
     "text": [
      "20 91.48 69.88 494.39 96.89\n"
     ]
    },
    {
     "name": "stdout",
     "output_type": "stream",
     "text": [
      "21 91.88 70.20 494.27 96.87\n"
     ]
    },
    {
     "name": "stdout",
     "output_type": "stream",
     "text": [
      "22 92.64 70.25 494.21 96.88\n"
     ]
    },
    {
     "name": "stdout",
     "output_type": "stream",
     "text": [
      "23 92.77 70.21 494.10 96.88\n"
     ]
    },
    {
     "name": "stdout",
     "output_type": "stream",
     "text": [
      "24 92.91 69.35 494.06 96.88\n"
     ]
    },
    {
     "name": "stdout",
     "output_type": "stream",
     "text": [
      "25 92.98 70.09 493.91 96.86\n"
     ]
    },
    {
     "name": "stdout",
     "output_type": "stream",
     "text": [
      "26 93.20 70.23 493.89 96.89\n"
     ]
    },
    {
     "name": "stdout",
     "output_type": "stream",
     "text": [
      "27 93.32 70.43 493.87 96.87\n"
     ]
    },
    {
     "name": "stdout",
     "output_type": "stream",
     "text": [
      "28 93.71 70.18 493.78 96.87\n"
     ]
    },
    {
     "name": "stdout",
     "output_type": "stream",
     "text": [
      "29 93.74 70.48 493.77 96.86\n"
     ]
    },
    {
     "name": "stdout",
     "output_type": "stream",
     "text": [
      "30 94.38 70.12 493.79 96.88\n"
     ]
    },
    {
     "name": "stdout",
     "output_type": "stream",
     "text": [
      "31 93.85 69.64 493.60 96.85\n"
     ]
    },
    {
     "name": "stdout",
     "output_type": "stream",
     "text": [
      "32 94.22 70.22 493.69 96.88\n"
     ]
    },
    {
     "name": "stdout",
     "output_type": "stream",
     "text": [
      "33 94.30 69.76 493.54 96.90\n"
     ]
    },
    {
     "name": "stdout",
     "output_type": "stream",
     "text": [
      "34 94.41 70.36 493.58 96.86\n"
     ]
    },
    {
     "name": "stdout",
     "output_type": "stream",
     "text": [
      "35 94.48 69.91 493.54 96.89\n"
     ]
    },
    {
     "name": "stdout",
     "output_type": "stream",
     "text": [
      "36 94.63 69.83 493.42 96.85\n"
     ]
    },
    {
     "name": "stdout",
     "output_type": "stream",
     "text": [
      "37 94.77 69.81 493.46 96.84\n"
     ]
    },
    {
     "name": "stdout",
     "output_type": "stream",
     "text": [
      "38 94.86 69.28 493.35 96.86\n"
     ]
    },
    {
     "name": "stdout",
     "output_type": "stream",
     "text": [
      "39 94.74 69.35 493.39 96.90\n"
     ]
    },
    {
     "name": "stdout",
     "output_type": "stream",
     "text": [
      "40 94.66 69.18 493.28 96.89\n"
     ]
    },
    {
     "name": "stdout",
     "output_type": "stream",
     "text": [
      "41 94.92 69.15 493.31 96.89\n"
     ]
    },
    {
     "name": "stdout",
     "output_type": "stream",
     "text": [
      "42 94.68 68.89 493.29 96.88\n"
     ]
    },
    {
     "name": "stdout",
     "output_type": "stream",
     "text": [
      "43 94.83 69.00 493.21 96.88\n"
     ]
    },
    {
     "name": "stdout",
     "output_type": "stream",
     "text": [
      "44 94.87 69.14 493.24 96.88\n"
     ]
    },
    {
     "name": "stdout",
     "output_type": "stream",
     "text": [
      "45 94.75 69.19 493.21 96.86\n"
     ]
    },
    {
     "name": "stdout",
     "output_type": "stream",
     "text": [
      "46 95.15 69.25 493.22 96.88\n"
     ]
    },
    {
     "name": "stdout",
     "output_type": "stream",
     "text": [
      "47 95.01 69.27 493.14 96.87\n"
     ]
    },
    {
     "name": "stdout",
     "output_type": "stream",
     "text": [
      "48 95.14 68.69 493.15 96.88\n"
     ]
    },
    {
     "name": "stdout",
     "output_type": "stream",
     "text": [
      "49 95.18 69.39 493.12 96.87\n"
     ]
    }
   ],
   "source": [
    "train_accuracies = []\n",
    "test_accuracies = []\n",
    "\n",
    "for i in range(args.epochs):    \n",
    "    start_training = time()\n",
    "    tm.fit(graphs_train, Y_train, epochs=1, incremental=True)\n",
    "    stop_training = time()\n",
    "\n",
    "    start_testing = time()\n",
    "    result_test = 100*(tm.predict(graphs_test) == Y_test).mean()\n",
    "    stop_testing = time()\n",
    "\n",
    "    result_train = 100*(tm.predict(graphs_train) == Y_train).mean()\n",
    "\n",
    "    train_accuracies.append(result_train)\n",
    "    test_accuracies.append(result_test)\n",
    "\n",
    "    print(\"%d %.2f %.2f %.2f %.2f\" % (i, result_train, result_test, stop_training-start_training, stop_testing-start_testing))"
   ]
  },
  {
   "cell_type": "code",
   "execution_count": null,
   "id": "c3707314",
   "metadata": {
    "execution": {
     "iopub.execute_input": "2025-04-28T15:13:55.313324Z",
     "iopub.status.busy": "2025-04-28T15:13:55.313173Z",
     "iopub.status.idle": "2025-04-28T15:13:55.433563Z",
     "shell.execute_reply": "2025-04-28T15:13:55.432598Z"
    },
    "papermill": {
     "duration": 0.130023,
     "end_time": "2025-04-28T15:13:55.434658",
     "exception": false,
     "start_time": "2025-04-28T15:13:55.304635",
     "status": "completed"
    },
    "tags": []
   },
   "outputs": [
    {
     "data": {
      "image/png": "[encoded data removed]",
      "text/plain": [
       "<Figure size 640x480 with 1 Axes>"
      ]
     },
     "metadata": {},
     "output_type": "display_data"
    }
   ],
   "source": [
    "sns.set_theme(style=\"whitegrid\", font_scale=1.2)\n",
    "custom_colors = ['#33A2FF']\n",
    "sns.set_palette(custom_colors)\n",
    "sns.lineplot(x=list(range(len(test_accuracies))), y=test_accuracies, linewidth=2.5)\n",
    "plt.xlabel('Epoch', fontsize=14)\n",
    "plt.ylabel('Accuracy (%)', fontsize=14)\n",
    "plt.tight_layout()\n",
    "plt.savefig(\"figures/accuracy_over_two.png\")\n",
    "plt.show()"
   ]
  },
  {
   "cell_type": "code",
   "execution_count": null,
   "id": "34731832",
   "metadata": {
    "execution": {
     "iopub.execute_input": "2025-04-28T15:13:55.454286Z",
     "iopub.status.busy": "2025-04-28T15:13:55.454144Z",
     "iopub.status.idle": "2025-04-28T15:13:55.610805Z",
     "shell.execute_reply": "2025-04-28T15:13:55.610130Z"
    },
    "papermill": {
     "duration": 0.167916,
     "end_time": "2025-04-28T15:13:55.611833",
     "exception": false,
     "start_time": "2025-04-28T15:13:55.443917",
     "status": "completed"
    },
    "tags": []
   },
   "outputs": [
    {
     "data": {
      "image/png": "[encoded data removed]",
      "text/plain": [
       "<Figure size 640x480 with 1 Axes>"
      ]
     },
     "metadata": {},
     "output_type": "display_data"
    }
   ],
   "source": [
    "sns.set_theme(style=\"whitegrid\", font_scale=1.2)\n",
    "custom_colors = ['#33A2FF', '#a663cc']\n",
    "sns.set_palette(custom_colors)\n",
    "sns.lineplot(x=list(range(len(train_accuracies))), y=train_accuracies, label='Train', linewidth=2.5)\n",
    "sns.lineplot(x=list(range(len(test_accuracies))), y=test_accuracies, label='Test', linewidth=2.5)\n",
    "plt.xlabel('Epoch', fontsize=14)\n",
    "plt.ylabel('Accuracy (%)', fontsize=14)\n",
    "plt.tight_layout()\n",
    "plt.savefig(\"figures/accuracy_over_2.png\")\n",
    "plt.show()"
   ]
  },
  {
   "cell_type": "code",
   "execution_count": null,
   "id": "51d9f1c8",
   "metadata": {
    "execution": {
     "iopub.execute_input": "2025-04-28T15:13:55.629349Z",
     "iopub.status.busy": "2025-04-28T15:13:55.629145Z",
     "iopub.status.idle": "2025-04-28T15:15:32.890647Z",
     "shell.execute_reply": "2025-04-28T15:15:32.889610Z"
    },
    "papermill": {
     "duration": 97.281416,
     "end_time": "2025-04-28T15:15:32.901722",
     "exception": false,
     "start_time": "2025-04-28T15:13:55.620306",
     "status": "completed"
    },
    "tags": []
   },
   "outputs": [
    {
     "data": {
      "image/png": "[encoded data removed]",
      "text/plain": [
       "<Figure size 1000x800 with 2 Axes>"
      ]
     },
     "metadata": {},
     "output_type": "display_data"
    }
   ],
   "source": [
    "labels = ['airplane', 'automobile', 'bird', 'cat', 'deer',\n",
    "          'dog', 'frog', 'horse', 'ship', 'truck']\n",
    "\n",
    "y_pred = tm.predict(graphs_test)\n",
    "\n",
    "cm = confusion_matrix(Y_test, y_pred)\n",
    "\n",
    "plt.figure(figsize=(10, 8))\n",
    "sns.set_theme(font_scale=1.2)\n",
    "sns.heatmap(cm, annot=True, fmt='d', cmap='Purples',\n",
    "            xticklabels=labels, yticklabels=labels)\n",
    "\n",
    "plt.ylabel('True Class', fontsize=14)\n",
    "plt.xlabel('Predicted Class', fontsize=14)\n",
    "plt.tight_layout()\n",
    "plt.savefig(\"figures/confusion_matrix_2.png\")\n",
    "plt.show()"
   ]
  }
 ],
 "metadata": {
  "kernelspec": {
   "display_name": ".venv",
   "language": "python",
   "name": "python3"
  },
  "language_info": {
   "codemirror_mode": {
    "name": "ipython",
    "version": 3
   },
   "file_extension": ".py",
   "mimetype": "text/x-python",
   "name": "python",
   "nbconvert_exporter": "python",
   "pygments_lexer": "ipython3",
   "version": "3.12.3"
  },
  "papermill": {
   "default_parameters": {},
   "duration": 68192.741323,
   "end_time": "2025-04-28T15:15:37.437469",
   "environment_variables": {},
   "exception": null,
   "input_path": "CIFAR10Team.ipynb",
   "output_path": "CIFAR10Team.ipynb",
   "parameters": {},
   "start_time": "2025-04-27T20:19:04.696146",
   "version": "2.6.0"
  }
 },
 "nbformat": 4,
 "nbformat_minor": 5
}
