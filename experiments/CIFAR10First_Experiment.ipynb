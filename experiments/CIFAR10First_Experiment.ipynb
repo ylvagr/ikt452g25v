{
 "cells": [
  {
   "cell_type": "code",
   "execution_count": 1,
   "id": "b50800a7",
   "metadata": {
    "execution": {
     "iopub.execute_input": "2025-04-27T20:21:43.655246Z",
     "iopub.status.busy": "2025-04-27T20:21:43.654562Z",
     "iopub.status.idle": "2025-04-27T20:21:46.983592Z",
     "shell.execute_reply": "2025-04-27T20:21:46.982945Z"
    },
    "papermill": {
     "duration": 3.336789,
     "end_time": "2025-04-27T20:21:46.984968",
     "exception": false,
     "start_time": "2025-04-27T20:21:43.648179",
     "status": "completed"
    },
    "tags": []
   },
   "outputs": [
    {
     "name": "stderr",
     "output_type": "stream",
     "text": [
      "2025-04-27 20:21:45.338720: I tensorflow/core/util/port.cc:153] oneDNN custom operations are on. You may see slightly different numerical results due to floating-point round-off errors from different computation orders. To turn them off, set the environment variable `TF_ENABLE_ONEDNN_OPTS=0`.\n",
      "2025-04-27 20:21:45.351018: E external/local_xla/xla/stream_executor/cuda/cuda_fft.cc:467] Unable to register cuFFT factory: Attempting to register factory for plugin cuFFT when one has already been registered\n",
      "WARNING: All log messages before absl::InitializeLog() is called are written to STDERR\n",
      "E0000 00:00:1745785305.364407  319771 cuda_dnn.cc:8579] Unable to register cuDNN factory: Attempting to register factory for plugin cuDNN when one has already been registered\n",
      "E0000 00:00:1745785305.368250  319771 cuda_blas.cc:1407] Unable to register cuBLAS factory: Attempting to register factory for plugin cuBLAS when one has already been registered\n",
      "W0000 00:00:1745785305.379251  319771 computation_placer.cc:177] computation placer already registered. Please check linkage and avoid linking the same target more than once.\n",
      "W0000 00:00:1745785305.379267  319771 computation_placer.cc:177] computation placer already registered. Please check linkage and avoid linking the same target more than once.\n",
      "W0000 00:00:1745785305.379268  319771 computation_placer.cc:177] computation placer already registered. Please check linkage and avoid linking the same target more than once.\n",
      "W0000 00:00:1745785305.379269  319771 computation_placer.cc:177] computation placer already registered. Please check linkage and avoid linking the same target more than once.\n",
      "2025-04-27 20:21:45.383605: I tensorflow/core/platform/cpu_feature_guard.cc:210] This TensorFlow binary is optimized to use available CPU instructions in performance-critical operations.\n",
      "To enable the following instructions: AVX2 AVX512F AVX512_VNNI AVX512_BF16 AVX512_FP16 AVX_VNNI AMX_TILE AMX_INT8 AMX_BF16 FMA, in other operations, rebuild TensorFlow with the appropriate compiler flags.\n"
     ]
    }
   ],
   "source": [
    "from GraphTsetlinMachine.graphs import Graphs\n",
    "import numpy as np\n",
    "from scipy.sparse import csr_matrix\n",
    "from GraphTsetlinMachine.tm import MultiClassGraphTsetlinMachine\n",
    "from time import time\n",
    "import argparse\n",
    "from skimage.util import view_as_windows\n",
    "from numba import jit\n",
    "from keras.datasets import cifar10\n",
    "import cv2\n",
    "import matplotlib.pyplot as plt \n",
    "import seaborn as sns\n",
    "from sklearn.metrics import confusion_matrix"
   ]
  },
  {
   "cell_type": "code",
   "execution_count": null,
   "id": "4685f392",
   "metadata": {
    "execution": {
     "iopub.execute_input": "2025-04-27T20:21:46.997232Z",
     "iopub.status.busy": "2025-04-27T20:21:46.996896Z",
     "iopub.status.idle": "2025-04-27T20:21:47.002673Z",
     "shell.execute_reply": "2025-04-27T20:21:47.002308Z"
    },
    "papermill": {
     "duration": 0.012419,
     "end_time": "2025-04-27T20:21:47.003655",
     "exception": false,
     "start_time": "2025-04-27T20:21:46.991236",
     "status": "completed"
    },
    "tags": []
   },
   "outputs": [],
   "source": [
    "def default_args(**kwargs):\n",
    "    parser = argparse.ArgumentParser()\n",
    "    parser.add_argument(\"--epochs\", default=50, type=int)\n",
    "    parser.add_argument(\"--number-of-clauses\", default=40000, type=int)\n",
    "    parser.add_argument(\"--T\", default=7500, type=int)\n",
    "    parser.add_argument(\"--s\", default=20.0, type=float)\n",
    "    parser.add_argument(\"--number-of-state-bits\", default=8, type=int)\n",
    "    parser.add_argument(\"--depth\", default=1, type=int)\n",
    "    parser.add_argument(\"--hypervector-size\", default=128, type=int)\n",
    "    parser.add_argument(\"--hypervector-bits\", default=2, type=int)\n",
    "    parser.add_argument(\"--message-size\", default=256, type=int)\n",
    "    parser.add_argument(\"--message-bits\", default=2, type=int)\n",
    "    parser.add_argument(\"--patch_size\", default=8, type=int)\n",
    "    parser.add_argument('--double-hashing', dest='double_hashing', default=False, action='store_true')\n",
    "    parser.add_argument('--one-hot-encoding', dest='one_hot_encoding', default=True, action='store_true')\n",
    "    parser.add_argument(\"--max-included-literals\", default=32, type=int)\n",
    "\n",
    "    args = parser.parse_args(args=[])\n",
    "\n",
    "    for key, value in kwargs.items():\n",
    "        if key in args.__dict__:\n",
    "            setattr(args, key, value)\n",
    "    return args\n",
    "\n",
    "args = default_args()"
   ]
  },
  {
   "cell_type": "code",
   "execution_count": 3,
   "id": "b9176e1d",
   "metadata": {
    "execution": {
     "iopub.execute_input": "2025-04-27T20:21:47.013199Z",
     "iopub.status.busy": "2025-04-27T20:21:47.013086Z",
     "iopub.status.idle": "2025-04-27T20:21:49.825429Z",
     "shell.execute_reply": "2025-04-27T20:21:49.824057Z"
    },
    "papermill": {
     "duration": 2.818245,
     "end_time": "2025-04-27T20:21:49.826743",
     "exception": false,
     "start_time": "2025-04-27T20:21:47.008498",
     "status": "completed"
    },
    "tags": []
   },
   "outputs": [],
   "source": [
    "def horizontal_flip(image):\n",
    "    return cv2.flip(image.astype(np.uint8), 1)\n",
    "\n",
    "(X_train, Y_train), (X_test, Y_test) = cifar10.load_data()\n",
    "\n",
    "X_train = X_train\n",
    "Y_train = Y_train\n",
    "\n",
    "X_test = X_test\n",
    "Y_test = Y_test\n",
    "\n",
    "Y_train = Y_train.reshape(Y_train.shape[0])\n",
    "Y_test = Y_test.reshape(Y_test.shape[0])\n",
    "\n",
    "for i in range(X_train.shape[0]):\n",
    "        for j in range(X_train.shape[3]):\n",
    "                X_train[i,:,:,j] = cv2.adaptiveThreshold(X_train[i,:,:,j], 1, cv2.ADAPTIVE_THRESH_GAUSSIAN_C, cv2.THRESH_BINARY, 11, 2)\n",
    "\n",
    "for i in range(X_test.shape[0]):\n",
    "        for j in range(X_test.shape[3]):\n",
    "                X_test[i,:,:,j] = cv2.adaptiveThreshold(X_test[i,:,:,j], 1, cv2.ADAPTIVE_THRESH_GAUSSIAN_C, cv2.THRESH_BINARY, 11, 2)\n",
    "\n",
    "X_train = X_train.astype(np.uint32)\n",
    "X_test = X_test.astype(np.uint32)\n",
    "Y_train = Y_train.astype(np.uint32)\n",
    "Y_test = Y_test.astype(np.uint32)"
   ]
  },
  {
   "cell_type": "code",
   "execution_count": 4,
   "id": "10c68fd6",
   "metadata": {
    "execution": {
     "iopub.execute_input": "2025-04-27T20:21:49.839560Z",
     "iopub.status.busy": "2025-04-27T20:21:49.839383Z",
     "iopub.status.idle": "2025-04-27T20:21:49.844054Z",
     "shell.execute_reply": "2025-04-27T20:21:49.843293Z"
    },
    "papermill": {
     "duration": 0.012521,
     "end_time": "2025-04-27T20:21:49.845144",
     "exception": false,
     "start_time": "2025-04-27T20:21:49.832623",
     "status": "completed"
    },
    "tags": []
   },
   "outputs": [
    {
     "name": "stdout",
     "output_type": "stream",
     "text": [
      "1250\n",
      "['C:0', 'R:0', 'C:1', 'R:1', 'C:2', 'R:2', 'C:3', 'R:3', 'C:4', 'R:4', 'C:5', 'R:5', 'C:6', 'R:6', 'C:7', 'R:7', 'C:8', 'R:8', 'C:9', 'R:9', 'C:10', 'R:10', 'C:11', 'R:11', 'C:12', 'R:12', 'C:13', 'R:13', 'C:14', 'R:14', 'C:15', 'R:15', 'C:16', 'R:16', 'C:17', 'R:17', 'C:18', 'R:18', 'C:19', 'R:19', 'C:20', 'R:20', 'C:21', 'R:21', 'C:22', 'R:22', 'C:23', 'R:23', 'C:24', 'R:24', 0, 1, 2, 3, 4, 5, 6, 7, 8, 9, 10, 11, 12, 13, 14, 15, 16, 17, 18, 19, 20, 21, 22, 23, 24, 25, 26, 27, 28, 29, 30, 31, 32, 33, 34, 35, 36, 37, 38, 39, 40, 41, 42, 43, 44, 45, 46, 47, 48, 49, 50, 51, 52, 53, 54, 55, 56, 57, 58, 59, 60, 61, 62, 63, 64, 65, 66, 67, 68, 69, 70, 71, 72, 73, 74, 75, 76, 77, 78, 79, 80, 81, 82, 83, 84, 85, 86, 87, 88, 89, 90, 91, 92, 93, 94, 95, 96, 97, 98, 99, 100, 101, 102, 103, 104, 105, 106, 107, 108, 109, 110, 111, 112, 113, 114, 115, 116, 117, 118, 119, 120, 121, 122, 123, 124, 125, 126, 127, 128, 129, 130, 131, 132, 133, 134, 135, 136, 137, 138, 139, 140, 141, 142, 143, 144, 145, 146, 147, 148, 149, 150, 151, 152, 153, 154, 155, 156, 157, 158, 159, 160, 161, 162, 163, 164, 165, 166, 167, 168, 169, 170, 171, 172, 173, 174, 175, 176, 177, 178, 179, 180, 181, 182, 183, 184, 185, 186, 187, 188, 189, 190, 191]\n"
     ]
    }
   ],
   "source": [
    "dim = 32 - args.patch_size + 1\n",
    "\n",
    "number_of_nodes = (dim * dim) * 2\n",
    "print(number_of_nodes)\n",
    "\n",
    "symbols = []\n",
    "\n",
    "# Column and row symbols\n",
    "for i in range(dim):\n",
    "    symbols.append(f\"C:{i}\")\n",
    "    symbols.append(f\"R:{i}\")\n",
    "\n",
    "# Patch pixel symbols\n",
    "for i in range(args.patch_size*args.patch_size*3):\n",
    "    symbols.append(i)\n",
    "\n",
    "print(symbols)"
   ]
  },
  {
   "cell_type": "code",
   "execution_count": 5,
   "id": "844eedb6",
   "metadata": {
    "execution": {
     "iopub.execute_input": "2025-04-27T20:21:49.855453Z",
     "iopub.status.busy": "2025-04-27T20:21:49.855302Z",
     "iopub.status.idle": "2025-04-27T21:45:47.204703Z",
     "shell.execute_reply": "2025-04-27T21:45:47.203899Z"
    },
    "papermill": {
     "duration": 5037.361042,
     "end_time": "2025-04-27T21:45:47.211086",
     "exception": false,
     "start_time": "2025-04-27T20:21:49.850044",
     "status": "completed"
    },
    "tags": []
   },
   "outputs": [
    {
     "name": "stdout",
     "output_type": "stream",
     "text": [
      "0 50000\n"
     ]
    },
    {
     "name": "stdout",
     "output_type": "stream",
     "text": [
      "1000 50000\n"
     ]
    },
    {
     "name": "stdout",
     "output_type": "stream",
     "text": [
      "2000 50000\n"
     ]
    },
    {
     "name": "stdout",
     "output_type": "stream",
     "text": [
      "3000 50000\n"
     ]
    },
    {
     "name": "stdout",
     "output_type": "stream",
     "text": [
      "4000 50000\n"
     ]
    },
    {
     "name": "stdout",
     "output_type": "stream",
     "text": [
      "5000 50000\n"
     ]
    },
    {
     "name": "stdout",
     "output_type": "stream",
     "text": [
      "6000 50000\n"
     ]
    },
    {
     "name": "stdout",
     "output_type": "stream",
     "text": [
      "7000 50000\n"
     ]
    },
    {
     "name": "stdout",
     "output_type": "stream",
     "text": [
      "8000 50000\n"
     ]
    },
    {
     "name": "stdout",
     "output_type": "stream",
     "text": [
      "9000 50000\n"
     ]
    },
    {
     "name": "stdout",
     "output_type": "stream",
     "text": [
      "10000 50000\n"
     ]
    },
    {
     "name": "stdout",
     "output_type": "stream",
     "text": [
      "11000 50000\n"
     ]
    },
    {
     "name": "stdout",
     "output_type": "stream",
     "text": [
      "12000 50000\n"
     ]
    },
    {
     "name": "stdout",
     "output_type": "stream",
     "text": [
      "13000 50000\n"
     ]
    },
    {
     "name": "stdout",
     "output_type": "stream",
     "text": [
      "14000 50000\n"
     ]
    },
    {
     "name": "stdout",
     "output_type": "stream",
     "text": [
      "15000 50000\n"
     ]
    },
    {
     "name": "stdout",
     "output_type": "stream",
     "text": [
      "16000 50000\n"
     ]
    },
    {
     "name": "stdout",
     "output_type": "stream",
     "text": [
      "17000 50000\n"
     ]
    },
    {
     "name": "stdout",
     "output_type": "stream",
     "text": [
      "18000 50000\n"
     ]
    },
    {
     "name": "stdout",
     "output_type": "stream",
     "text": [
      "19000 50000\n"
     ]
    },
    {
     "name": "stdout",
     "output_type": "stream",
     "text": [
      "20000 50000\n"
     ]
    },
    {
     "name": "stdout",
     "output_type": "stream",
     "text": [
      "21000 50000\n"
     ]
    },
    {
     "name": "stdout",
     "output_type": "stream",
     "text": [
      "22000 50000\n"
     ]
    },
    {
     "name": "stdout",
     "output_type": "stream",
     "text": [
      "23000 50000\n"
     ]
    },
    {
     "name": "stdout",
     "output_type": "stream",
     "text": [
      "24000 50000\n"
     ]
    },
    {
     "name": "stdout",
     "output_type": "stream",
     "text": [
      "25000 50000\n"
     ]
    },
    {
     "name": "stdout",
     "output_type": "stream",
     "text": [
      "26000 50000\n"
     ]
    },
    {
     "name": "stdout",
     "output_type": "stream",
     "text": [
      "27000 50000\n"
     ]
    },
    {
     "name": "stdout",
     "output_type": "stream",
     "text": [
      "28000 50000\n"
     ]
    },
    {
     "name": "stdout",
     "output_type": "stream",
     "text": [
      "29000 50000\n"
     ]
    },
    {
     "name": "stdout",
     "output_type": "stream",
     "text": [
      "30000 50000\n"
     ]
    },
    {
     "name": "stdout",
     "output_type": "stream",
     "text": [
      "31000 50000\n"
     ]
    },
    {
     "name": "stdout",
     "output_type": "stream",
     "text": [
      "32000 50000\n"
     ]
    },
    {
     "name": "stdout",
     "output_type": "stream",
     "text": [
      "33000 50000\n"
     ]
    },
    {
     "name": "stdout",
     "output_type": "stream",
     "text": [
      "34000 50000\n"
     ]
    },
    {
     "name": "stdout",
     "output_type": "stream",
     "text": [
      "35000 50000\n"
     ]
    },
    {
     "name": "stdout",
     "output_type": "stream",
     "text": [
      "36000 50000\n"
     ]
    },
    {
     "name": "stdout",
     "output_type": "stream",
     "text": [
      "37000 50000\n"
     ]
    },
    {
     "name": "stdout",
     "output_type": "stream",
     "text": [
      "38000 50000\n"
     ]
    },
    {
     "name": "stdout",
     "output_type": "stream",
     "text": [
      "39000 50000\n"
     ]
    },
    {
     "name": "stdout",
     "output_type": "stream",
     "text": [
      "40000 50000\n"
     ]
    },
    {
     "name": "stdout",
     "output_type": "stream",
     "text": [
      "41000 50000\n"
     ]
    },
    {
     "name": "stdout",
     "output_type": "stream",
     "text": [
      "42000 50000\n"
     ]
    },
    {
     "name": "stdout",
     "output_type": "stream",
     "text": [
      "43000 50000\n"
     ]
    },
    {
     "name": "stdout",
     "output_type": "stream",
     "text": [
      "44000 50000\n"
     ]
    },
    {
     "name": "stdout",
     "output_type": "stream",
     "text": [
      "45000 50000\n"
     ]
    },
    {
     "name": "stdout",
     "output_type": "stream",
     "text": [
      "46000 50000\n"
     ]
    },
    {
     "name": "stdout",
     "output_type": "stream",
     "text": [
      "47000 50000\n"
     ]
    },
    {
     "name": "stdout",
     "output_type": "stream",
     "text": [
      "48000 50000\n"
     ]
    },
    {
     "name": "stdout",
     "output_type": "stream",
     "text": [
      "49000 50000\n"
     ]
    },
    {
     "name": "stdout",
     "output_type": "stream",
     "text": [
      "Training data produced\n"
     ]
    }
   ],
   "source": [
    "graphs_train = Graphs(\n",
    "    X_train.shape[0],\n",
    "    symbols=symbols,\n",
    "    hypervector_size=args.hypervector_size,\n",
    "    hypervector_bits=args.hypervector_bits,\n",
    "    double_hashing = args.double_hashing,\n",
    "    one_hot_encoding = args.one_hot_encoding\n",
    ")\n",
    "\n",
    "for graph_id in range(X_train.shape[0]):\n",
    "    graphs_train.set_number_of_graph_nodes(graph_id, number_of_nodes)\n",
    "\n",
    "graphs_train.prepare_node_configuration()\n",
    "\n",
    "for graph_id in range(X_train.shape[0]):\n",
    "    for node_id in range(graphs_train.number_of_graph_nodes[graph_id]):\n",
    "        graphs_train.add_graph_node(graph_id, node_id, 0)\n",
    "\n",
    "graphs_train.prepare_edge_configuration()\n",
    "\n",
    "for graph_id in range(X_train.shape[0]):\n",
    "    if graph_id % 1000 == 0:\n",
    "        print(graph_id, X_train.shape[0])\n",
    "\n",
    "    image = X_train[graph_id, :, :]\n",
    "    flipped_image = horizontal_flip(image)\n",
    "     \n",
    "    windows = view_as_windows(image, (args.patch_size, args.patch_size, 3))\n",
    "    flipped_windows = view_as_windows(flipped_image, (args.patch_size, args.patch_size, 3))\n",
    "    for q in range(windows.shape[0]):\n",
    "            for r in range(windows.shape[1]):\n",
    "                # Original node\n",
    "                node_id = (q * dim + r) * 2\n",
    "\n",
    "                patch = windows[q,r,0]\n",
    "                flattened_patch = patch.reshape(-1).astype(np.uint32)\n",
    "                for k in flattened_patch.nonzero()[0]:\n",
    "                    graphs_train.add_graph_node_property(graph_id, node_id, k)\n",
    "                for s in range(q + 1):\n",
    "                    graphs_train.add_graph_node_property(graph_id, node_id, f\"C:{s}\")\n",
    "                for s in range(r + 1):\n",
    "                    graphs_train.add_graph_node_property(graph_id, node_id, f\"R:{s}\")\n",
    "\n",
    "                # Flipped node\n",
    "                node_id_flipped = (q * dim + r) * 2 + 1\n",
    "\n",
    "                flipped_patch = flipped_windows[q, r, 0]\n",
    "                flattened_flipped_patch = flipped_patch.reshape(-1).astype(np.uint32)\n",
    "                for k in flattened_flipped_patch.nonzero()[0]:\n",
    "                    graphs_train.add_graph_node_property(graph_id, node_id_flipped, k)\n",
    "                for s in range(q + 1):\n",
    "                    graphs_train.add_graph_node_property(graph_id, node_id_flipped, f\"C:{s}\")\n",
    "                for s in range(r + 1):\n",
    "                    graphs_train.add_graph_node_property(graph_id, node_id_flipped, f\"R:{s}\")\n",
    "\n",
    "\n",
    "graphs_train.encode()\n",
    "\n",
    "print(\"Training data produced\")"
   ]
  },
  {
   "cell_type": "code",
   "execution_count": 6,
   "id": "d3fc4f9e",
   "metadata": {
    "execution": {
     "iopub.execute_input": "2025-04-27T21:45:47.223334Z",
     "iopub.status.busy": "2025-04-27T21:45:47.223160Z",
     "iopub.status.idle": "2025-04-27T22:02:43.240020Z",
     "shell.execute_reply": "2025-04-27T22:02:43.239234Z"
    },
    "papermill": {
     "duration": 1016.02998,
     "end_time": "2025-04-27T22:02:43.246605",
     "exception": false,
     "start_time": "2025-04-27T21:45:47.216625",
     "status": "completed"
    },
    "tags": []
   },
   "outputs": [
    {
     "name": "stdout",
     "output_type": "stream",
     "text": [
      "0 10000\n"
     ]
    },
    {
     "name": "stdout",
     "output_type": "stream",
     "text": [
      "1000 10000\n"
     ]
    },
    {
     "name": "stdout",
     "output_type": "stream",
     "text": [
      "2000 10000\n"
     ]
    },
    {
     "name": "stdout",
     "output_type": "stream",
     "text": [
      "3000 10000\n"
     ]
    },
    {
     "name": "stdout",
     "output_type": "stream",
     "text": [
      "4000 10000\n"
     ]
    },
    {
     "name": "stdout",
     "output_type": "stream",
     "text": [
      "5000 10000\n"
     ]
    },
    {
     "name": "stdout",
     "output_type": "stream",
     "text": [
      "6000 10000\n"
     ]
    },
    {
     "name": "stdout",
     "output_type": "stream",
     "text": [
      "7000 10000\n"
     ]
    },
    {
     "name": "stdout",
     "output_type": "stream",
     "text": [
      "8000 10000\n"
     ]
    },
    {
     "name": "stdout",
     "output_type": "stream",
     "text": [
      "9000 10000\n"
     ]
    },
    {
     "name": "stdout",
     "output_type": "stream",
     "text": [
      "Testing data produced\n"
     ]
    }
   ],
   "source": [
    "graphs_test = Graphs(X_test.shape[0], init_with=graphs_train)\n",
    "for graph_id in range(X_test.shape[0]):\n",
    "    graphs_test.set_number_of_graph_nodes(graph_id, number_of_nodes)\n",
    "\n",
    "graphs_test.prepare_node_configuration()\n",
    "\n",
    "for graph_id in range(X_test.shape[0]):\n",
    "    for node_id in range(graphs_test.number_of_graph_nodes[graph_id]):\n",
    "        graphs_test.add_graph_node(graph_id, node_id, 0)\n",
    "\n",
    "graphs_test.prepare_edge_configuration()\n",
    "\n",
    "for graph_id in range(X_test.shape[0]):\n",
    "    if graph_id % 1000 == 0:\n",
    "        print(graph_id, X_test.shape[0])\n",
    "    \n",
    "    image = X_test[graph_id, :, :]\n",
    "    flipped_image = horizontal_flip(image)\n",
    "\n",
    "    windows = view_as_windows(image, (args.patch_size, args.patch_size, 3))\n",
    "    flipped_windows = view_as_windows(flipped_image, (args.patch_size, args.patch_size, 3))\n",
    "    for q in range(windows.shape[0]):\n",
    "            for r in range(windows.shape[1]):\n",
    "                # Original node\n",
    "                node_id = (q * dim + r) * 2\n",
    "\n",
    "                patch = windows[q,r,0]\n",
    "                flattened_patch = patch.reshape(-1).astype(np.uint32)\n",
    "                for k in flattened_patch.nonzero()[0]:\n",
    "                    graphs_test.add_graph_node_property(graph_id, node_id, k)\n",
    "\n",
    "                for s in range(q+1):\n",
    "                    graphs_test.add_graph_node_property(graph_id, node_id, f\"C:{s}\")\n",
    "\n",
    "                for s in range(r+1):\n",
    "                    graphs_test.add_graph_node_property(graph_id, node_id, f\"R:{s}\")\n",
    "\n",
    "                # Flipped node\n",
    "                node_id_flipped = (q * dim + r) * 2 + 1\n",
    "\n",
    "                flipped_patch = flipped_windows[q, r, 0]\n",
    "                flattened_flipped_patch = flipped_patch.reshape(-1).astype(np.uint32)\n",
    "                for k in flattened_flipped_patch.nonzero()[0]:\n",
    "                    graphs_test.add_graph_node_property(graph_id, node_id_flipped, k)\n",
    "                for s in range(q + 1):\n",
    "                    graphs_test.add_graph_node_property(graph_id, node_id_flipped, f\"C:{s}\")\n",
    "                for s in range(r + 1):\n",
    "                    graphs_test.add_graph_node_property(graph_id, node_id_flipped, f\"R:{s}\")\n",
    "\n",
    "\n",
    "graphs_test.encode()\n",
    "\n",
    "print(\"Testing data produced\")\n"
   ]
  },
  {
   "cell_type": "code",
   "execution_count": 7,
   "id": "eea04f06",
   "metadata": {
    "execution": {
     "iopub.execute_input": "2025-04-27T22:02:43.258736Z",
     "iopub.status.busy": "2025-04-27T22:02:43.258568Z",
     "iopub.status.idle": "2025-04-27T22:02:43.262163Z",
     "shell.execute_reply": "2025-04-27T22:02:43.261581Z"
    },
    "papermill": {
     "duration": 0.011057,
     "end_time": "2025-04-27T22:02:43.263177",
     "exception": false,
     "start_time": "2025-04-27T22:02:43.252120",
     "status": "completed"
    },
    "tags": []
   },
   "outputs": [
    {
     "name": "stdout",
     "output_type": "stream",
     "text": [
      "Initialization of sparse structure.\n"
     ]
    }
   ],
   "source": [
    "tm = MultiClassGraphTsetlinMachine(\n",
    "    args.number_of_clauses,\n",
    "    args.T,\n",
    "    args.s,number_of_state_bits = args.number_of_state_bits,\n",
    "    depth=args.depth,\n",
    "    message_size=args.message_size,\n",
    "    message_bits=args.message_bits,\n",
    "    max_included_literals=args.max_included_literals,\n",
    "    double_hashing = args.double_hashing,\n",
    "    one_hot_encoding = args.one_hot_encoding\n",
    ")"
   ]
  },
  {
   "cell_type": "code",
   "execution_count": 8,
   "id": "ec900328",
   "metadata": {
    "execution": {
     "iopub.execute_input": "2025-04-27T22:02:43.274681Z",
     "iopub.status.busy": "2025-04-27T22:02:43.274540Z",
     "iopub.status.idle": "2025-04-28T07:42:42.383386Z",
     "shell.execute_reply": "2025-04-28T07:42:42.382199Z"
    },
    "papermill": {
     "duration": 34799.1257,
     "end_time": "2025-04-28T07:42:42.394077",
     "exception": false,
     "start_time": "2025-04-27T22:02:43.268377",
     "status": "completed"
    },
    "tags": []
   },
   "outputs": [
    {
     "name": "stdout",
     "output_type": "stream",
     "text": [
      "0 57.87 55.74 325.19 62.70\n"
     ]
    },
    {
     "name": "stdout",
     "output_type": "stream",
     "text": [
      "1 64.81 60.37 322.02 62.69\n"
     ]
    },
    {
     "name": "stdout",
     "output_type": "stream",
     "text": [
      "2 69.16 62.70 321.39 62.67\n"
     ]
    },
    {
     "name": "stdout",
     "output_type": "stream",
     "text": [
      "3 72.00 63.95 321.02 62.67\n"
     ]
    },
    {
     "name": "stdout",
     "output_type": "stream",
     "text": [
      "4 74.95 64.71 320.74 62.67\n"
     ]
    },
    {
     "name": "stdout",
     "output_type": "stream",
     "text": [
      "5 76.80 65.18 320.54 62.67\n"
     ]
    },
    {
     "name": "stdout",
     "output_type": "stream",
     "text": [
      "6 78.24 66.02 320.36 62.70\n"
     ]
    },
    {
     "name": "stdout",
     "output_type": "stream",
     "text": [
      "7 79.77 65.66 320.17 62.72\n"
     ]
    },
    {
     "name": "stdout",
     "output_type": "stream",
     "text": [
      "8 80.67 66.29 320.47 62.76\n"
     ]
    },
    {
     "name": "stdout",
     "output_type": "stream",
     "text": [
      "9 82.15 66.53 320.35 62.77\n"
     ]
    },
    {
     "name": "stdout",
     "output_type": "stream",
     "text": [
      "10 82.75 66.53 320.39 62.77\n"
     ]
    },
    {
     "name": "stdout",
     "output_type": "stream",
     "text": [
      "11 83.92 66.09 320.23 62.75\n"
     ]
    },
    {
     "name": "stdout",
     "output_type": "stream",
     "text": [
      "12 84.75 65.66 319.97 62.74\n"
     ]
    },
    {
     "name": "stdout",
     "output_type": "stream",
     "text": [
      "13 85.35 66.07 319.85 62.77\n"
     ]
    },
    {
     "name": "stdout",
     "output_type": "stream",
     "text": [
      "14 85.91 66.44 319.80 62.76\n"
     ]
    },
    {
     "name": "stdout",
     "output_type": "stream",
     "text": [
      "15 86.76 66.04 319.71 62.75\n"
     ]
    },
    {
     "name": "stdout",
     "output_type": "stream",
     "text": [
      "16 87.16 65.46 319.64 62.74\n"
     ]
    },
    {
     "name": "stdout",
     "output_type": "stream",
     "text": [
      "17 87.71 66.42 319.56 62.77\n"
     ]
    },
    {
     "name": "stdout",
     "output_type": "stream",
     "text": [
      "18 87.63 65.83 319.54 62.76\n"
     ]
    },
    {
     "name": "stdout",
     "output_type": "stream",
     "text": [
      "19 87.90 65.85 319.44 62.75\n"
     ]
    },
    {
     "name": "stdout",
     "output_type": "stream",
     "text": [
      "20 88.45 65.62 319.35 62.77\n"
     ]
    },
    {
     "name": "stdout",
     "output_type": "stream",
     "text": [
      "21 88.35 65.97 319.33 62.76\n"
     ]
    },
    {
     "name": "stdout",
     "output_type": "stream",
     "text": [
      "22 89.21 65.81 319.29 62.73\n"
     ]
    },
    {
     "name": "stdout",
     "output_type": "stream",
     "text": [
      "23 88.86 65.53 319.24 62.78\n"
     ]
    },
    {
     "name": "stdout",
     "output_type": "stream",
     "text": [
      "24 89.36 65.85 319.17 62.80\n"
     ]
    },
    {
     "name": "stdout",
     "output_type": "stream",
     "text": [
      "25 89.41 65.51 319.12 63.02\n"
     ]
    },
    {
     "name": "stdout",
     "output_type": "stream",
     "text": [
      "26 89.71 65.51 319.08 62.75\n"
     ]
    },
    {
     "name": "stdout",
     "output_type": "stream",
     "text": [
      "27 89.91 65.30 319.07 62.76\n"
     ]
    },
    {
     "name": "stdout",
     "output_type": "stream",
     "text": [
      "28 89.47 64.29 319.04 62.75\n"
     ]
    },
    {
     "name": "stdout",
     "output_type": "stream",
     "text": [
      "29 90.11 65.04 319.02 62.75\n"
     ]
    },
    {
     "name": "stdout",
     "output_type": "stream",
     "text": [
      "30 89.94 65.01 318.95 62.75\n"
     ]
    },
    {
     "name": "stdout",
     "output_type": "stream",
     "text": [
      "31 90.16 65.22 318.93 62.78\n"
     ]
    },
    {
     "name": "stdout",
     "output_type": "stream",
     "text": [
      "32 89.75 65.74 318.94 62.77\n"
     ]
    },
    {
     "name": "stdout",
     "output_type": "stream",
     "text": [
      "33 90.38 64.74 318.92 62.77\n"
     ]
    },
    {
     "name": "stdout",
     "output_type": "stream",
     "text": [
      "34 90.09 64.47 318.87 62.74\n"
     ]
    },
    {
     "name": "stdout",
     "output_type": "stream",
     "text": [
      "35 90.18 65.15 318.86 62.81\n"
     ]
    },
    {
     "name": "stdout",
     "output_type": "stream",
     "text": [
      "36 89.83 64.73 318.83 62.85\n"
     ]
    },
    {
     "name": "stdout",
     "output_type": "stream",
     "text": [
      "37 90.05 64.22 318.79 62.73\n"
     ]
    },
    {
     "name": "stdout",
     "output_type": "stream",
     "text": [
      "38 90.05 64.10 318.81 62.74\n"
     ]
    },
    {
     "name": "stdout",
     "output_type": "stream",
     "text": [
      "39 90.10 64.64 318.83 62.74\n"
     ]
    },
    {
     "name": "stdout",
     "output_type": "stream",
     "text": [
      "40 89.72 64.34 318.81 62.73\n"
     ]
    },
    {
     "name": "stdout",
     "output_type": "stream",
     "text": [
      "41 90.00 64.57 318.75 62.74\n"
     ]
    },
    {
     "name": "stdout",
     "output_type": "stream",
     "text": [
      "42 90.04 64.65 318.77 62.78\n"
     ]
    },
    {
     "name": "stdout",
     "output_type": "stream",
     "text": [
      "43 89.91 64.04 318.74 62.75\n"
     ]
    },
    {
     "name": "stdout",
     "output_type": "stream",
     "text": [
      "44 90.01 63.72 318.71 62.73\n"
     ]
    },
    {
     "name": "stdout",
     "output_type": "stream",
     "text": [
      "45 89.24 63.31 318.71 62.73\n"
     ]
    },
    {
     "name": "stdout",
     "output_type": "stream",
     "text": [
      "46 88.46 62.90 318.74 62.79\n"
     ]
    },
    {
     "name": "stdout",
     "output_type": "stream",
     "text": [
      "47 89.50 63.49 318.68 62.76\n"
     ]
    },
    {
     "name": "stdout",
     "output_type": "stream",
     "text": [
      "48 89.78 64.68 318.68 62.75\n"
     ]
    },
    {
     "name": "stdout",
     "output_type": "stream",
     "text": [
      "49 89.17 63.52 318.68 62.74\n"
     ]
    }
   ],
   "source": [
    "train_accuracies = []\n",
    "test_accuracies = []\n",
    "\n",
    "for i in range(args.epochs):    \n",
    "    start_training = time()\n",
    "    tm.fit(graphs_train, Y_train, epochs=1, incremental=True)\n",
    "    stop_training = time()\n",
    "\n",
    "    start_testing = time()\n",
    "    result_test = 100*(tm.predict(graphs_test) == Y_test).mean()\n",
    "    stop_testing = time()\n",
    "\n",
    "    result_train = 100*(tm.predict(graphs_train) == Y_train).mean()\n",
    "\n",
    "    train_accuracies.append(result_train)\n",
    "    test_accuracies.append(result_test)\n",
    "\n",
    "    print(\"%d %.2f %.2f %.2f %.2f\" % (i, result_train, result_test, stop_training-start_training, stop_testing-start_testing))"
   ]
  },
  {
   "cell_type": "code",
   "execution_count": 10,
   "id": "8ca974f9",
   "metadata": {
    "execution": {
     "iopub.execute_input": "2025-04-28T07:42:42.641388Z",
     "iopub.status.busy": "2025-04-28T07:42:42.641237Z",
     "iopub.status.idle": "2025-04-28T07:42:42.759587Z",
     "shell.execute_reply": "2025-04-28T07:42:42.758732Z"
    },
    "papermill": {
     "duration": 0.132215,
     "end_time": "2025-04-28T07:42:42.760404",
     "exception": false,
     "start_time": "2025-04-28T07:42:42.628189",
     "status": "completed"
    },
    "tags": []
   },
   "outputs": [
    {
     "data": {
      "image/png": "[encoded data removed]",
      "text/plain": [
       "<Figure size 640x480 with 1 Axes>"
      ]
     },
     "metadata": {},
     "output_type": "display_data"
    }
   ],
   "source": [
    "sns.set_theme(style=\"whitegrid\", font_scale=1.2)\n",
    "custom_colors = ['#33A2FF']\n",
    "sns.set_palette(custom_colors)\n",
    "sns.lineplot(x=list(range(len(test_accuracies))), y=test_accuracies, linewidth=2.5)\n",
    "plt.xlabel('Epoch', fontsize=14)\n",
    "plt.ylabel('Accuracy (%)', fontsize=14)\n",
    "plt.tight_layout()\n",
    "plt.savefig(\"figures/accuracy_over_gaussian.png\")\n",
    "plt.show()"
   ]
  },
  {
   "cell_type": "code",
   "execution_count": null,
   "id": "89966e96",
   "metadata": {
    "execution": {
     "iopub.execute_input": "2025-04-28T07:42:42.777472Z",
     "iopub.status.busy": "2025-04-28T07:42:42.777307Z",
     "iopub.status.idle": "2025-04-28T07:42:42.931799Z",
     "shell.execute_reply": "2025-04-28T07:42:42.931176Z"
    },
    "papermill": {
     "duration": 0.163753,
     "end_time": "2025-04-28T07:42:42.932644",
     "exception": false,
     "start_time": "2025-04-28T07:42:42.768891",
     "status": "completed"
    },
    "tags": []
   },
   "outputs": [
    {
     "data": {
      "image/png": "[encoded data removed]",
      "text/plain": [
       "<Figure size 640x480 with 1 Axes>"
      ]
     },
     "metadata": {},
     "output_type": "display_data"
    }
   ],
   "source": [
    "sns.set_theme(style=\"whitegrid\", font_scale=1.2)\n",
    "custom_colors = ['#33A2FF', '#a663cc']\n",
    "sns.set_palette(custom_colors)\n",
    "sns.lineplot(x=list(range(len(train_accuracies))), y=train_accuracies, label='Train', linewidth=2.5)\n",
    "sns.lineplot(x=list(range(len(test_accuracies))), y=test_accuracies, label='Test', linewidth=2.5)\n",
    "plt.xlabel('Epoch', fontsize=14)\n",
    "plt.ylabel('Accuracy (%)', fontsize=14)\n",
    "plt.tight_layout()\n",
    "plt.savefig(\"figures/test_train_accuracy.png\")\n",
    "plt.show()"
   ]
  },
  {
   "cell_type": "code",
   "execution_count": 12,
   "id": "181305ba-d238-4db8-816b-b06d908d27e2",
   "metadata": {
    "execution": {
     "iopub.execute_input": "2025-04-28T07:42:42.950651Z",
     "iopub.status.busy": "2025-04-28T07:42:42.950504Z",
     "iopub.status.idle": "2025-04-28T07:43:46.098353Z",
     "shell.execute_reply": "2025-04-28T07:43:46.097720Z"
    },
    "papermill": {
     "duration": 63.168381,
     "end_time": "2025-04-28T07:43:46.110306",
     "exception": false,
     "start_time": "2025-04-28T07:42:42.941925",
     "status": "completed"
    },
    "tags": []
   },
   "outputs": [
    {
     "data": {
      "image/png": "[encoded data removed]",
      "text/plain": [
       "<Figure size 1000x800 with 2 Axes>"
      ]
     },
     "metadata": {},
     "output_type": "display_data"
    }
   ],
   "source": [
    "labels = ['airplane', 'automobile', 'bird', 'cat', 'deer',\n",
    "          'dog', 'frog', 'horse', 'ship', 'truck']\n",
    "\n",
    "y_pred = tm.predict(graphs_test)\n",
    "\n",
    "cm = confusion_matrix(Y_test, y_pred)\n",
    "\n",
    "plt.figure(figsize=(10, 8))\n",
    "sns.set_theme(font_scale=1.2)\n",
    "sns.heatmap(cm, annot=True, fmt='d', cmap='Blues',\n",
    "            xticklabels=labels, yticklabels=labels)\n",
    "\n",
    "plt.ylabel('True Class', fontsize=14)\n",
    "plt.xlabel('Predicted Class', fontsize=14)\n",
    "plt.tight_layout()\n",
    "plt.savefig(\"figures/confusion_matrix_gaussian.png\")\n",
    "plt.show()"
   ]
  }
 ],
 "metadata": {
  "kernelspec": {
   "display_name": ".venv",
   "language": "python",
   "name": "python3"
  },
  "language_info": {
   "codemirror_mode": {
    "name": "ipython",
    "version": 3
   },
   "file_extension": ".py",
   "mimetype": "text/x-python",
   "name": "python",
   "nbconvert_exporter": "python",
   "pygments_lexer": "ipython3",
   "version": "3.12.3"
  },
  "papermill": {
   "default_parameters": {},
   "duration": 40926.0595,
   "end_time": "2025-04-28T07:43:49.040132",
   "environment_variables": {},
   "exception": null,
   "input_path": "CIFAR10Gaussian.ipynb",
   "output_path": "CIFAR10Gaussian.ipynb",
   "parameters": {},
   "start_time": "2025-04-27T20:21:42.980632",
   "version": "2.6.0"
  }
 },
 "nbformat": 4,
 "nbformat_minor": 5
}
